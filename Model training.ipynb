{
 "cells": [
  {
   "cell_type": "code",
   "execution_count": 9,
   "id": "580d5172-98af-40ec-bdbf-3a1a8055318b",
   "metadata": {},
   "outputs": [],
   "source": [
    "from flask import Flask,render_template,url_for,request\n",
    "import pandas as pd \n",
    "import pickle\n",
    "from sklearn.feature_extraction.text import CountVectorizer\n",
    "from sklearn.naive_bayes import MultinomialNB\n",
    "import joblib\n",
    "import pickle\n"
   ]
  },
  {
   "cell_type": "code",
   "execution_count": 3,
   "id": "cf9b9699-207e-4ba0-ac21-47bb9a495333",
   "metadata": {},
   "outputs": [],
   "source": [
    "df= pd.read_csv(\"spam.csv\", encoding=\"latin-1\")\n",
    "df.drop(['Unnamed: 2', 'Unnamed: 3', 'Unnamed: 4'], axis=1, inplace=True)\n",
    "# Features and Labels\n",
    "df['label'] = df['class'].map({'ham': 0, 'spam': 1})\n",
    "X = df['message']\n",
    "y = df['label']\n",
    "\n"
   ]
  },
  {
   "cell_type": "code",
   "execution_count": 4,
   "id": "5b43316a-d0cd-4a25-af93-64d7c97b43b1",
   "metadata": {},
   "outputs": [],
   "source": [
    "# Extract Feature With CountVectorizer\n",
    "cv = CountVectorizer()\n",
    "X = cv.fit_transform(X) # Fit the Data\n",
    "    \n",
    "pickle.dump(cv, open('tranform.pkl', 'wb'))\n",
    "    \n",
    "    \n"
   ]
  },
  {
   "cell_type": "code",
   "execution_count": 5,
   "id": "2eb46202-3680-40f6-9f41-7aceab4a9ee9",
   "metadata": {},
   "outputs": [],
   "source": [
    "from sklearn.model_selection import train_test_split\n",
    "X_train, X_test, y_train, y_test = train_test_split(X, y, test_size=0.33, random_state=42)\n",
    "#Naive Bayes Classifier\n",
    "from sklearn.naive_bayes import MultinomialNB\n",
    "\n"
   ]
  },
  {
   "cell_type": "code",
   "execution_count": 6,
   "id": "8217c6dc-5474-4b1e-a5b9-a9c290dfff84",
   "metadata": {},
   "outputs": [],
   "source": [
    "clf = MultinomialNB()\n",
    "clf.fit(X_train,y_train)\n",
    "clf.score(X_test,y_test)\n",
    "filename = 'nlp_model.pkl'\n",
    "pickle.dump(clf, open(filename, 'wb'))\n",
    "    \n"
   ]
  },
  {
   "cell_type": "code",
   "execution_count": 10,
   "id": "4052c13d-bda0-425f-af02-396ea8141729",
   "metadata": {},
   "outputs": [],
   "source": [
    "#Alternative Usage of Saved Model\n",
    "joblib.dump(clf, 'NB_spam_model.pkl')\n",
    "NB_spam_model = open('NB_spam_model.pkl','rb')\n",
    "clf = joblib.load(NB_spam_model)"
   ]
  },
  {
   "cell_type": "code",
   "execution_count": null,
   "id": "bff05eb8-e2a9-4df5-afae-865a44ba319b",
   "metadata": {},
   "outputs": [],
   "source": []
  }
 ],
 "metadata": {
  "kernelspec": {
   "display_name": "Python 3",
   "language": "python",
   "name": "python3"
  },
  "language_info": {
   "codemirror_mode": {
    "name": "ipython",
    "version": 3
   },
   "file_extension": ".py",
   "mimetype": "text/x-python",
   "name": "python",
   "nbconvert_exporter": "python",
   "pygments_lexer": "ipython3",
   "version": "3.8.8"
  }
 },
 "nbformat": 4,
 "nbformat_minor": 5
}
